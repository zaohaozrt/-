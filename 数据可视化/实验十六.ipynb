{
 "cells": [
  {
   "cell_type": "code",
   "execution_count": 28,
   "id": "00347c0b",
   "metadata": {},
   "outputs": [
    {
     "name": "stderr",
     "output_type": "stream",
     "text": [
      "C:\\Users\\Administrator\\AppData\\Local\\Temp\\ipykernel_15300\\441095673.py:8: MatplotlibDeprecationWarning: Setting data with a non sequence type is deprecated since 3.7 and will be remove two minor releases later\n",
      "  point_ani.set_data(x[num], y[num])\n"
     ]
    }
   ],
   "source": [
    "# 大数据202王申政 2029730224\n",
    "import numpy as np\n",
    "import matplotlib\n",
    "import matplotlib.pyplot as plt\n",
    "import matplotlib.animation as animation\n",
    "\n",
    "def update_points(num):\n",
    "    point_ani.set_data(x[num], y[num])\n",
    "    text_pt.set_text(\"x=%.3f, y=%.3f\" % (x[num], y[num]))\n",
    "    return point_ani, text_pt,\n",
    "\n",
    "\n",
    "x = np.linspace(0, 2 * np.pi, 100)\n",
    "y = np.sin(x)\n",
    "\n",
    "fig = plt.figure(tight_layout=True)\n",
    "plt.plot(x, y)\n",
    "point_ani, = plt.plot(x[0], y[0], \"ro\")\n",
    "plt.grid(ls=\"--\")\n",
    "text_pt = plt.text(4, 0.8, '', fontsize=16)  # 点的位置以文本形式输出\n",
    "\n",
    "ani = animation.FuncAnimation(fig, update_points, np.arange(0, 100), interval=100, blit=False)\n",
    "plt.show()\n"
   ]
  },
  {
   "cell_type": "code",
   "execution_count": 34,
   "id": "ddcb1a6c",
   "metadata": {},
   "outputs": [],
   "source": [
    "# 大数据202王申政 2029730224\n",
    "import numpy as np\n",
    "import matplotlib.pyplot as plt\n",
    "plt.rcParams['axes.unicode_minus']=False #用来正常显示负号\n",
    "plt.rcParams['font.sans-serif'] = [\"SimHei\"]\n",
    "fig3 = plt.figure()\n",
    "gs = fig3.add_gridspec(3,3)\n",
    "f3_ax1 = fig3.add_subplot(gs[0, :])\n",
    "f3_ax1.set_title('1')\n",
    "x1 = np.array([0,1])\n",
    "y1 = np.array([1,2])\n",
    "f3_ax1.plot(x1,y1)\n",
    "f3_ax1.set_yticks([1,2])\n",
    "f3_ax2 = fig3.add_subplot(gs[1, :-1])\n",
    "f3_ax2.set_title('2')\n",
    "f3_ax1.plot(x1,y1)\n",
    "f3_ax3 = fig3.add_subplot(gs[1:, -1])\n",
    "f3_ax3.set_title('3')\n",
    "x3 = np.array([1,2,3,4])\n",
    "y3 = np.array([1,4,8,12])\n",
    "f3_ax3.plot(x3,y3)\n",
    "f3_ax4 = fig3.add_subplot(gs[-1, 0])\n",
    "f3_ax4.set_title('4')\n",
    "x2 = np.array([0,0.5,1])\n",
    "y2 = np.array([0,2,3])\n",
    "f3_ax4.scatter(x2,y2)\n",
    "f3_ax5 = fig3.add_subplot(gs[-1, -2])\n",
    "f3_ax5.set_title('5')\n",
    "plt.tight_layout(pad=0.4, w_pad=0.5, h_pad=1)\n",
    "plt.show()\n"
   ]
  },
  {
   "cell_type": "code",
   "execution_count": 32,
   "id": "440bc137",
   "metadata": {},
   "outputs": [],
   "source": [
    "# 大数据202王申政 2029730224\n",
    "import numpy as np\n",
    "import matplotlib.pyplot as plt\n",
    "plt.rcParams['axes.unicode_minus']=False #用来正常显示负号\n",
    "plt.rcParams['font.sans-serif'] = [\"SimHei\"]\n",
    "x1 = np.linspace(-np.pi, np.pi, 100, endpoint=True)\n",
    "y1 = np.sin(x1)\n",
    "ax1 = plt.subplot2grid((2, 3), (0,2))\n",
    "ax1.plot(x1,y1)\n",
    "ax1.set_xticks([-2.5,0,2.5])\n",
    "ax1.set_yticks([-1,0,1])\n",
    "y2 = np.cos(x1)\n",
    "ax2 = plt.subplot2grid((2, 3), (1,2), sharex=ax1)\n",
    "ax2.plot(x1,y2)\n",
    "ax2.set_yticks([-1,0,1])\n",
    "plt.tight_layout(pad=0.4, w_pad=0.5, h_pad=1)\n",
    "plt.show()\n"
   ]
  },
  {
   "cell_type": "code",
   "execution_count": 33,
   "id": "dfcf9de4",
   "metadata": {},
   "outputs": [
    {
     "name": "stderr",
     "output_type": "stream",
     "text": [
      "C:\\Users\\Administrator\\AppData\\Local\\Temp\\ipykernel_15300\\3692539826.py:10: RuntimeWarning: divide by zero encountered in log\n",
      "  y2 = np.log(x)\n"
     ]
    }
   ],
   "source": [
    "# 大数据202王申政 2029730224\n",
    "import numpy as np\n",
    "import matplotlib.pyplot as plt\n",
    "import matplotlib.gridspec as gridspec\n",
    "plt.rcParams[\"font.sans-serif\"] = [\"SimHei\"]\n",
    "plt.rcParams[\"axes.unicode_minus\"] = False\n",
    "\n",
    "x = np.arange(0,10)\n",
    "y1 = np.exp(x)\n",
    "y2 = np.log(x)\n",
    "y3 = np.square(x)\n",
    "\n",
    "# 创建画布和布局\n",
    "fig = plt.figure(constrained_layout=True)\n",
    "gs = fig.add_gridspec(3, 3)\n",
    "ax_one = fig.add_subplot(gs[0, :-1])\n",
    "ax_two = fig.add_subplot(gs[1:, :-1])\n",
    "ax_thr = fig.add_subplot(gs[0:, -1])\n",
    "# 第1个子图\n",
    "ax_one.plot(x, y1)\n",
    "ax_one.set_title('exp')\n",
    "# 第2个子图\n",
    "ax_two.plot(x,y2)\n",
    "ax_two.set_title('log')\n",
    "ax_two.set_yticks([0 + 0.5 * i for i in range(5)],[0 + 0.5 * i for i in range(5)])\n",
    "# 第3个子图\n",
    "ax_thr.plot(x,y3)\n",
    "ax_thr.set_title('square')\n",
    "ax_thr.set_yticks([0 + 10 * i for i in range(9)],[0 + 10 * i for i in range(9)])\n",
    "plt.show()\n"
   ]
  },
  {
   "cell_type": "code",
   "execution_count": null,
   "id": "895b2247",
   "metadata": {},
   "outputs": [],
   "source": []
  }
 ],
 "metadata": {
  "kernelspec": {
   "display_name": "Python 3 (ipykernel)",
   "language": "python",
   "name": "python3"
  },
  "language_info": {
   "codemirror_mode": {
    "name": "ipython",
    "version": 3
   },
   "file_extension": ".py",
   "mimetype": "text/x-python",
   "name": "python",
   "nbconvert_exporter": "python",
   "pygments_lexer": "ipython3",
   "version": "3.10.9"
  }
 },
 "nbformat": 4,
 "nbformat_minor": 5
}
